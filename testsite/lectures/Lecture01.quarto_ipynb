{
  "cells": [
    {
      "cell_type": "markdown",
      "metadata": {},
      "source": [
        "---\n",
        "title: \"Lecture01\"\n",
        "format:\n",
        "  html:\n",
        "    code-fold: true\n",
        "jupyter: julia-1.11\n",
        "---"
      ],
      "id": "b163bd7f"
    },
    {
      "cell_type": "code",
      "metadata": {},
      "source": [
        "using Markdown\n",
        "using InteractiveUtils\n",
        "\n",
        "macro bind(def, element)\n",
        "    quote\n",
        "        local iv = try\n",
        "            Base.loaded_modules[Base.PkgId(\n",
        "                Base.UUID(\"6e696c72-6542-2067-7265-42206c756150\"),\n",
        "                \"AbstractPlutoDingetjes\",\n",
        "            )].Bonds.initial_value\n",
        "        catch\n",
        "            b -> missing\n",
        "        end\n",
        "        local el = $(esc(element))\n",
        "        global $(esc(def)) = Core.applicable(Base.get, el) ? Base.get(el) : iv(el)\n",
        "        el\n",
        "    end\n",
        "end"
      ],
      "id": "fb7fd9c7",
      "execution_count": null,
      "outputs": []
    },
    {
      "cell_type": "code",
      "metadata": {},
      "source": [
        "begin\n",
        "    using Pkg\n",
        "    Pkg.activate(joinpath(\"/home/dhruvanshu/ExercisesDataAnalysisWS2425\"))\n",
        "    Pkg.instantiate()\n",
        "    using DataAnalysisWS2425\n",
        "    using QuadGK\n",
        "    using Plots\n",
        "    using Cuba\n",
        "    using FFTW\n",
        "    using PlutoUI\n",
        "end"
      ],
      "id": "659c5d6a",
      "execution_count": null,
      "outputs": []
    },
    {
      "cell_type": "code",
      "metadata": {},
      "source": [
        "md\"\"\"\n",
        "# Lecture 1a: Probability density functions\n",
        "\"\"\""
      ],
      "id": "4788542a",
      "execution_count": null,
      "outputs": []
    },
    {
      "cell_type": "code",
      "metadata": {},
      "source": [
        "theme(\n",
        "    :wong2,\n",
        "    frame = :box,\n",
        "    lab = \"\",\n",
        "    grid = false,\n",
        "    xlim = (:auto, :auto),\n",
        "    ylim = (:auto, :auto),\n",
        ")"
      ],
      "id": "10cf683d",
      "execution_count": null,
      "outputs": []
    },
    {
      "cell_type": "code",
      "metadata": {},
      "source": [
        "const support = (1.0, 3.0);\n",
        "\n",
        "function _f(x)\n",
        "    a, b = support\n",
        "    density = -(x - a) * (x - b) * x\n",
        "    return a < x < b ? density : zero(x)\n",
        "end\n",
        "\n",
        "const _n = quadgk(_f, support...)[1]\n",
        "\n",
        "f(x) = _f(x) / _n\n",
        "\n",
        "@bind xc Slider(range(support..., 100); default = 1.5)"
      ],
      "id": "358e4512",
      "execution_count": null,
      "outputs": []
    },
    {
      "cell_type": "code",
      "metadata": {},
      "source": [
        "md\"\"\"\n",
        "## Commutative function\n",
        "\"\"\""
      ],
      "id": "0ab20691",
      "execution_count": null,
      "outputs": []
    },
    {
      "cell_type": "code",
      "metadata": {},
      "source": [
        "F(x) = quadgk(f, support[1], x)[1]\n",
        "\n",
        "begin\n",
        "    plot(lab = \"probability distribution function\")\n",
        "    plot!(f, support..., fill = 0, c = 2, α = 0.3)\n",
        "    #\n",
        "    plot!(f, support[1], xc, c = 3, fill = 0)\n",
        "    annotate!(((xc + support[1]) / 2, 0.1, text(round(F(xc); digits = 2), :center)))\n",
        "    #\n",
        "    plot!(f, support..., c = 1, lw = 2)\n",
        "end"
      ],
      "id": "78dd9025",
      "execution_count": null,
      "outputs": []
    },
    {
      "cell_type": "code",
      "metadata": {},
      "source": [
        "plot(F, support...)"
      ],
      "id": "6439a37a",
      "execution_count": null,
      "outputs": []
    },
    {
      "cell_type": "code",
      "metadata": {},
      "source": [
        "md\"\"\"\n",
        "## Moments\n",
        "\"\"\""
      ],
      "id": "0ef08b79",
      "execution_count": null,
      "outputs": []
    },
    {
      "cell_type": "code",
      "metadata": {},
      "source": [
        "moment(n::Int) = quadgk(x -> x^n * f(x), support...)[1]\n",
        "\n",
        "function central_moment(n::Int)\n",
        "    μ = moment(1)\n",
        "    quadgk(x -> (x - μ)^n * f(x), support...)[1]\n",
        "end"
      ],
      "id": "c8350b14",
      "execution_count": null,
      "outputs": []
    },
    {
      "cell_type": "code",
      "metadata": {},
      "source": [
        "md\"\"\"\n",
        "The zero moment is a normalization\n",
        "\"\"\""
      ],
      "id": "3e651eed",
      "execution_count": null,
      "outputs": []
    },
    {
      "cell_type": "code",
      "metadata": {},
      "source": [
        "moment(0)"
      ],
      "id": "331ae7b8",
      "execution_count": null,
      "outputs": []
    },
    {
      "cell_type": "code",
      "metadata": {},
      "source": [
        "@assert moment(0) ≈ 1 \"Something is fishy with normalization\""
      ],
      "id": "4537c6a8",
      "execution_count": null,
      "outputs": []
    },
    {
      "cell_type": "code",
      "metadata": {},
      "source": [
        "md\"\"\"\n",
        "The first moment is a mean\n",
        "\"\"\""
      ],
      "id": "ef6a5180",
      "execution_count": null,
      "outputs": []
    },
    {
      "cell_type": "code",
      "metadata": {},
      "source": [
        "moment(1)"
      ],
      "id": "5c36aa42",
      "execution_count": null,
      "outputs": []
    },
    {
      "cell_type": "code",
      "metadata": {},
      "source": [
        "md\"\"\"\n",
        "The second moment is related to variance\n",
        "\n",
        "$V(x) = E[x^2]-(E[x])^2$\n",
        "\n",
        "The standard deviation $\\sigma$ is defined as a $\\sqrt{V[x]}$.\n",
        "\"\"\""
      ],
      "id": "a24c69f4",
      "execution_count": null,
      "outputs": []
    },
    {
      "cell_type": "code",
      "metadata": {},
      "source": [
        "σ = sqrt(moment(2) - moment(1)^2)"
      ],
      "id": "c2c01c5c",
      "execution_count": null,
      "outputs": []
    },
    {
      "cell_type": "code",
      "metadata": {},
      "source": [
        "@assert σ ≈ sqrt(central_moment(2)) \"Something is fishy with sigma\""
      ],
      "id": "13121887",
      "execution_count": null,
      "outputs": []
    },
    {
      "cell_type": "code",
      "metadata": {},
      "source": [
        "md\"\"\"\n",
        "Third moment is related to [skewness](https://en.wikipedia.org/wiki/Skewness): tells how asymmetric the distribution is.\n",
        "\"\"\""
      ],
      "id": "52905f26",
      "execution_count": null,
      "outputs": []
    },
    {
      "cell_type": "code",
      "metadata": {},
      "source": [
        "central_moment(3) / central_moment(2)^(3 / 2)"
      ],
      "id": "d77fe616",
      "execution_count": null,
      "outputs": []
    },
    {
      "cell_type": "code",
      "metadata": {},
      "source": [
        "md\"\"\"\n",
        "The the fourth moment is related to [kurtosis](https://en.wikipedia.org/wiki/Kurtosis): tells how significant the tails\n",
        "\"\"\""
      ],
      "id": "489a5701",
      "execution_count": null,
      "outputs": []
    },
    {
      "cell_type": "code",
      "metadata": {},
      "source": [
        "central_moment(4) / central_moment(2)^2 - 3"
      ],
      "id": "8d7a2d7f",
      "execution_count": null,
      "outputs": []
    },
    {
      "cell_type": "code",
      "metadata": {},
      "source": [
        "md\"\"\"\n",
        "## Central limit theorem\n",
        "\n",
        "$S_n = X_1 + X_2 + \\dots X_n$\n",
        "\n",
        "where $X_i$ are independent variables of the same distribution.\n",
        "\n",
        "CLT: The standardized sum defined by\n",
        "\n",
        "$Z_n = \\frac{S_n - n\\mu}{\\sigma\\sqrt{n}}$\n",
        "\n",
        "converges to $N(0,1)$ in a limit of high $n$.\n",
        "\"\"\""
      ],
      "id": "619728a1",
      "execution_count": null,
      "outputs": []
    },
    {
      "cell_type": "code",
      "metadata": {},
      "source": [
        "function sn_density(f::Function, x_range, n::Int)\n",
        "    f_values = f.(x_range)\n",
        "    F_f = fft(f_values)\n",
        "    F_sn = F_f .^ n\n",
        "    density = ifft(F_sn) |> real\n",
        "    dx = x_range[2] - x_range[1]\n",
        "    density /= sum(density) * dx\n",
        "    return density\n",
        "end\n",
        "\n",
        "let xv = range(0, 15, 500)\n",
        "    plot()\n",
        "    μ = moment(1)\n",
        "    σ = central_moment(2)\n",
        "    #\n",
        "    for n ∈ 1:4\n",
        "        _xv = xv\n",
        "        _density = sn_density(f, xv, n)\n",
        "        plot!(xv, _density, ylim = (0, :auto), fill = 0, c = n, alpha = 0.3, lab = \"n=$n\")\n",
        "    end\n",
        "    plot!()\n",
        "end"
      ],
      "id": "77c45a99",
      "execution_count": null,
      "outputs": []
    },
    {
      "cell_type": "code",
      "metadata": {},
      "source": [
        "gauss(x, μ, σ) = 1 / sqrt(2π) / σ * exp(-(x - μ)^2 / (2σ^2))"
      ],
      "id": "59173349",
      "execution_count": null,
      "outputs": []
    }
  ],
  "metadata": {
    "kernelspec": {
      "name": "julia-1.11",
      "language": "julia",
      "display_name": "Julia 1.11.3",
      "path": "/home/dhruvanshu/.local/share/jupyter/kernels/julia-1.11"
    }
  },
  "nbformat": 4,
  "nbformat_minor": 5
}